{
 "cells": [
  {
   "cell_type": "markdown",
   "metadata": {
    "deletable": true,
    "editable": true
   },
   "source": [
    "# Scrape race data from web"
   ]
  },
  {
   "cell_type": "code",
   "execution_count": 145,
   "metadata": {
    "collapsed": true,
    "deletable": true,
    "editable": true
   },
   "outputs": [],
   "source": [
    "from BeautifulSoup import BeautifulSoup\n",
    "import urllib2\n",
    "import pandas as pd\n",
    "import numpy as np"
   ]
  },
  {
   "cell_type": "markdown",
   "metadata": {
    "deletable": true,
    "editable": true
   },
   "source": [
    "## 1. Functions to import and extract"
   ]
  },
  {
   "cell_type": "code",
   "execution_count": 146,
   "metadata": {
    "collapsed": false,
    "deletable": true,
    "editable": true
   },
   "outputs": [],
   "source": [
    "def get_race_soup(year, race):\n",
    "    if(year > 2017 or race > 5):\n",
    "        print('Please use valid year and racenumber!')\n",
    "        return 0\n",
    "\n",
    "    url = \"http://www.regentsparkraces.org/results.php?RaceYear=\"+str(year)+\"&Race=\"+str(race)\n",
    "    page_file = urllib2.urlopen(url)\n",
    "    page_html = page_file.read()\n",
    "    page_file.close()\n",
    "    soup = BeautifulSoup(\"\".join(page_html))\n",
    "    \n",
    "    return soup"
   ]
  },
  {
   "cell_type": "code",
   "execution_count": 180,
   "metadata": {
    "collapsed": true,
    "deletable": true,
    "editable": true
   },
   "outputs": [],
   "source": [
    "def extract_results(soup):\n",
    "    table = soup.find(\"table\", { \"class\" : \"ResultsTable\" })\n",
    "    header = 3\n",
    "    # todo: check number of rows first.\n",
    "    \n",
    "    # run through table to fill dataframe\n",
    "    for i, row in enumerate(table.findAll(\"tr\")): \n",
    "        columns = row.findAll(\"td\")\n",
    "        if(i < header):\n",
    "            continue\n",
    "        elif(i == header):\n",
    "            clmn = []\n",
    "            for c in columns:\n",
    "                clmn.append(c.getText())\n",
    "            df = pd.DataFrame(columns = clmn, index =range(0,2000))\n",
    "        else:\n",
    "            for j,c in enumerate(columns):\n",
    "                df.iat[i-header,j] = c.text.replace('&nbsp;', '')   \n",
    "                           \n",
    "    # some cleaning\n",
    "    df = df.dropna(axis=0, how='all')\n",
    "    \n",
    "    # some columns should be ints\n",
    "    for col in df:\n",
    "        try:\n",
    "            df[col] = df[col].astype(int)\n",
    "        except ValueError:\n",
    "            pass\n",
    "    \n",
    "    # remove incomplete races\n",
    "    df = df[df['Place'] != 0]\n",
    "    \n",
    "    # set index to place in race\n",
    "    df = df.set_index('Place')\n",
    "    \n",
    "    # for convenience, we convert times to (float) minutes\n",
    "    # this a bit messy but robust.\n",
    "    cols = ['Gun Time','Net Time','Lap 1 Time','Lap 2 Time','Lap 3 Time']\n",
    "    \n",
    "    for c in cols:\n",
    "        df[c] = df[c].replace({'-': None})\n",
    "        time = (df[c].str.split(':'))\n",
    "        df[c] = ( 60.0     *time.str[0].values.astype(float)\n",
    "                 +1.0      *time.str[1].values.astype(float)\n",
    "                 +1.0/60.0 *time.str[2].values.astype(float)) \n",
    "    \n",
    "    return df"
   ]
  },
  {
   "cell_type": "markdown",
   "metadata": {
    "deletable": true,
    "editable": true
   },
   "source": [
    "## 2. Get all the data"
   ]
  },
  {
   "cell_type": "code",
   "execution_count": 187,
   "metadata": {
    "collapsed": false,
    "deletable": true,
    "editable": true
   },
   "outputs": [],
   "source": [
    "# this will take a few minutes to run!\n",
    "\n",
    "year = [2011,2012,2013,2014,2015,2016,2017]\n",
    "\n",
    "for y in year:\n",
    "    for r in range(0,6): # six races each year\n",
    "        soup = get_race_soup(y,r)\n",
    "        df = extract_results(soup)\n",
    "        df.to_csv('data/y'+str(y)+'_r'+str(r), encoding='utf-8')"
   ]
  },
  {
   "cell_type": "code",
   "execution_count": 188,
   "metadata": {
    "collapsed": false
   },
   "outputs": [
    {
     "data": {
      "text/html": [
       "<div>\n",
       "<style>\n",
       "    .dataframe thead tr:only-child th {\n",
       "        text-align: right;\n",
       "    }\n",
       "\n",
       "    .dataframe thead th {\n",
       "        text-align: left;\n",
       "    }\n",
       "\n",
       "    .dataframe tbody tr th {\n",
       "        vertical-align: top;\n",
       "    }\n",
       "</style>\n",
       "<table border=\"1\" class=\"dataframe\">\n",
       "  <thead>\n",
       "    <tr style=\"text-align: right;\">\n",
       "      <th></th>\n",
       "      <th>Name</th>\n",
       "      <th>Bib No</th>\n",
       "      <th>Gun Time</th>\n",
       "      <th>Net Time</th>\n",
       "      <th>Category</th>\n",
       "      <th>Categ Pos</th>\n",
       "      <th>Gender</th>\n",
       "      <th>Gender Pos</th>\n",
       "      <th>Club</th>\n",
       "      <th>Lap 1 Time</th>\n",
       "      <th>Lap 2 Time</th>\n",
       "      <th>Lap 3 Time</th>\n",
       "    </tr>\n",
       "    <tr>\n",
       "      <th>Place</th>\n",
       "      <th></th>\n",
       "      <th></th>\n",
       "      <th></th>\n",
       "      <th></th>\n",
       "      <th></th>\n",
       "      <th></th>\n",
       "      <th></th>\n",
       "      <th></th>\n",
       "      <th></th>\n",
       "      <th></th>\n",
       "      <th></th>\n",
       "      <th></th>\n",
       "    </tr>\n",
       "  </thead>\n",
       "  <tbody>\n",
       "    <tr>\n",
       "      <th>524</th>\n",
       "      <td>Teju Chosen</td>\n",
       "      <td>2867</td>\n",
       "      <td>105.350000</td>\n",
       "      <td>103.866667</td>\n",
       "      <td>LV45</td>\n",
       "      <td>27</td>\n",
       "      <td>Female</td>\n",
       "      <td>220</td>\n",
       "      <td></td>\n",
       "      <td>36.250000</td>\n",
       "      <td>34.416667</td>\n",
       "      <td>34.633333</td>\n",
       "    </tr>\n",
       "    <tr>\n",
       "      <th>525</th>\n",
       "      <td>Gerard Hammond</td>\n",
       "      <td>1567</td>\n",
       "      <td>106.066667</td>\n",
       "      <td>85.316667</td>\n",
       "      <td>V50</td>\n",
       "      <td>39</td>\n",
       "      <td>Male</td>\n",
       "      <td>305</td>\n",
       "      <td></td>\n",
       "      <td>46.783333</td>\n",
       "      <td>NaN</td>\n",
       "      <td>NaN</td>\n",
       "    </tr>\n",
       "    <tr>\n",
       "      <th>526</th>\n",
       "      <td>Ashilk Vahra</td>\n",
       "      <td>1528</td>\n",
       "      <td>106.066667</td>\n",
       "      <td>83.216667</td>\n",
       "      <td>V40</td>\n",
       "      <td>70</td>\n",
       "      <td>Male</td>\n",
       "      <td>306</td>\n",
       "      <td></td>\n",
       "      <td>46.733333</td>\n",
       "      <td>29.200000</td>\n",
       "      <td>30.100000</td>\n",
       "    </tr>\n",
       "  </tbody>\n",
       "</table>\n",
       "</div>"
      ],
      "text/plain": [
       "                 Name  Bib No    Gun Time    Net Time Category  Categ Pos  \\\n",
       "Place                                                                       \n",
       "524       Teju Chosen    2867  105.350000  103.866667     LV45         27   \n",
       "525    Gerard Hammond    1567  106.066667   85.316667      V50         39   \n",
       "526      Ashilk Vahra    1528  106.066667   83.216667      V40         70   \n",
       "\n",
       "       Gender  Gender Pos Club  Lap 1 Time  Lap 2 Time  Lap 3 Time  \n",
       "Place                                                               \n",
       "524    Female         220        36.250000   34.416667   34.633333  \n",
       "525      Male         305        46.783333         NaN         NaN  \n",
       "526      Male         306        46.733333   29.200000   30.100000  "
      ]
     },
     "execution_count": 188,
     "metadata": {},
     "output_type": "execute_result"
    }
   ],
   "source": [
    "df.tail(3)"
   ]
  },
  {
   "cell_type": "code",
   "execution_count": 189,
   "metadata": {
    "collapsed": false,
    "deletable": true,
    "editable": true
   },
   "outputs": [
    {
     "data": {
      "text/plain": [
       "Name           object\n",
       "Bib No          int64\n",
       "Gun Time      float64\n",
       "Net Time      float64\n",
       "Category       object\n",
       "Categ Pos       int64\n",
       "Gender         object\n",
       "Gender Pos      int64\n",
       "Club           object\n",
       "Lap 1 Time    float64\n",
       "Lap 2 Time    float64\n",
       "Lap 3 Time    float64\n",
       "dtype: object"
      ]
     },
     "execution_count": 189,
     "metadata": {},
     "output_type": "execute_result"
    }
   ],
   "source": [
    "df.dtypes"
   ]
  },
  {
   "cell_type": "markdown",
   "metadata": {
    "collapsed": false,
    "deletable": true,
    "editable": true
   },
   "source": [
    "## 3. Quick look at the data"
   ]
  },
  {
   "cell_type": "code",
   "execution_count": 190,
   "metadata": {
    "collapsed": false,
    "deletable": true,
    "editable": true
   },
   "outputs": [],
   "source": [
    "from matplotlib import pyplot as plt\n",
    "%matplotlib inline"
   ]
  },
  {
   "cell_type": "code",
   "execution_count": 191,
   "metadata": {
    "collapsed": false,
    "deletable": true,
    "editable": true
   },
   "outputs": [
    {
     "data": {
      "text/plain": [
       "<matplotlib.text.Text at 0x11753f550>"
      ]
     },
     "execution_count": 191,
     "metadata": {},
     "output_type": "execute_result"
    },
    {
     "data": {
      "image/png": "[encoded data removed]",
      "text/plain": [
       "<matplotlib.figure.Figure at 0x1161eeb90>"
      ]
     },
     "metadata": {},
     "output_type": "display_data"
    }
   ],
   "source": [
    "# Plot histogram of time\n",
    "plt.figure(figsize=(16,6))\n",
    "plt.grid(False)\n",
    "df['Gun Time'].hist(bins=30,grid =False)\n",
    "plt.xlabel('Time')\n",
    "plt.ylabel('Frequency')"
   ]
  },
  {
   "cell_type": "code",
   "execution_count": 194,
   "metadata": {
    "collapsed": false,
    "deletable": true,
    "editable": true
   },
   "outputs": [
    {
     "data": {
      "text/plain": [
       "<matplotlib.text.Text at 0x116bfec90>"
      ]
     },
     "execution_count": 194,
     "metadata": {},
     "output_type": "execute_result"
    },
    {
     "data": {
      "image/png": "[encoded data removed]",
      "text/plain": [
       "<matplotlib.figure.Figure at 0x115fbfb10>"
      ]
     },
     "metadata": {},
     "output_type": "display_data"
    }
   ],
   "source": [
    "# Place vs time\n",
    "df = df.reset_index()\n",
    "plt.figure(figsize=(16,8))\n",
    "plt.scatter(df['Place'], df['Gun Time'],marker='.')\n",
    "plt.xlabel('Place')\n",
    "plt.ylabel('Time (min)')"
   ]
  },
  {
   "cell_type": "code",
   "execution_count": null,
   "metadata": {
    "collapsed": false,
    "deletable": true,
    "editable": true
   },
   "outputs": [],
   "source": []
  },
  {
   "cell_type": "code",
   "execution_count": null,
   "metadata": {
    "collapsed": true,
    "deletable": true,
    "editable": true
   },
   "outputs": [],
   "source": []
  },
  {
   "cell_type": "code",
   "execution_count": null,
   "metadata": {
    "collapsed": true,
    "deletable": true,
    "editable": true
   },
   "outputs": [],
   "source": []
  },
  {
   "cell_type": "code",
   "execution_count": null,
   "metadata": {
    "collapsed": true,
    "deletable": true,
    "editable": true
   },
   "outputs": [],
   "source": []
  }
 ],
 "metadata": {
  "kernelspec": {
   "display_name": "Python 2",
   "language": "python",
   "name": "python2"
  },
  "language_info": {
   "codemirror_mode": {
    "name": "ipython",
    "version": 2
   },
   "file_extension": ".py",
   "mimetype": "text/x-python",
   "name": "python",
   "nbconvert_exporter": "python",
   "pygments_lexer": "ipython2",
   "version": "2.7.12"
  }
 },
 "nbformat": 4,
 "nbformat_minor": 2
}
