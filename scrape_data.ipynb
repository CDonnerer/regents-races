{
 "cells": [
  {
   "cell_type": "code",
   "execution_count": 1,
   "metadata": {
    "collapsed": true,
    "deletable": true,
    "editable": true
   },
   "outputs": [],
   "source": [
    "from BeautifulSoup import BeautifulSoup\n",
    "import urllib2\n",
    "import pandas as pd"
   ]
  },
  {
   "cell_type": "code",
   "execution_count": 2,
   "metadata": {
    "collapsed": true,
    "deletable": true,
    "editable": true
   },
   "outputs": [],
   "source": [
    "pageFile = urllib2.urlopen(\"http://www.regentsparkraces.org/results.php?RaceYear=2017&Race=3\")"
   ]
  },
  {
   "cell_type": "code",
   "execution_count": 3,
   "metadata": {
    "collapsed": true,
    "deletable": true,
    "editable": true
   },
   "outputs": [],
   "source": [
    "pageHtml = pageFile.read()"
   ]
  },
  {
   "cell_type": "code",
   "execution_count": 49,
   "metadata": {
    "collapsed": false,
    "deletable": true,
    "editable": true
   },
   "outputs": [],
   "source": [
    "pageFile.close()"
   ]
  },
  {
   "cell_type": "code",
   "execution_count": 59,
   "metadata": {
    "collapsed": false
   },
   "outputs": [],
   "source": [
    "soup = BeautifulSoup(\"\".join(pageHtml))"
   ]
  },
  {
   "cell_type": "code",
   "execution_count": 62,
   "metadata": {
    "collapsed": false,
    "deletable": true,
    "editable": true
   },
   "outputs": [],
   "source": [
    "#nonBreakSpace = u'\\xa0'\n",
    "#soup = soup.replaceWith(nonBreakSpace, '')"
   ]
  },
  {
   "cell_type": "code",
   "execution_count": 63,
   "metadata": {
    "collapsed": false,
    "deletable": true,
    "editable": true
   },
   "outputs": [],
   "source": [
    "table = soup.find(\"table\", { \"class\" : \"ResultsTable\" })"
   ]
  },
  {
   "cell_type": "code",
   "execution_count": 64,
   "metadata": {
    "collapsed": false,
    "deletable": true,
    "editable": true
   },
   "outputs": [
    {
     "name": "stdout",
     "output_type": "stream",
     "text": [
      "Regent's Park Races\n",
      "Regents Park Summer 10K Series Sunday July 2nd 2017\n",
      "Overall Finish List\n"
     ]
    },
    {
     "data": {
      "text/html": [
       "<div>\n",
       "<style>\n",
       "    .dataframe thead tr:only-child th {\n",
       "        text-align: right;\n",
       "    }\n",
       "\n",
       "    .dataframe thead th {\n",
       "        text-align: left;\n",
       "    }\n",
       "\n",
       "    .dataframe tbody tr th {\n",
       "        vertical-align: top;\n",
       "    }\n",
       "</style>\n",
       "<table border=\"1\" class=\"dataframe\">\n",
       "  <thead>\n",
       "    <tr style=\"text-align: right;\">\n",
       "      <th></th>\n",
       "      <th>Place</th>\n",
       "      <th>Name</th>\n",
       "      <th>Bib No</th>\n",
       "      <th>Gun Time</th>\n",
       "      <th>Net Time</th>\n",
       "      <th>Category</th>\n",
       "      <th>Categ Pos</th>\n",
       "      <th>Gender</th>\n",
       "      <th>Gender Pos</th>\n",
       "      <th>Club</th>\n",
       "      <th>Lap 1 Time</th>\n",
       "      <th>Lap 2 Time</th>\n",
       "      <th>Lap 3 Time</th>\n",
       "    </tr>\n",
       "  </thead>\n",
       "  <tbody>\n",
       "    <tr>\n",
       "      <th>0</th>\n",
       "      <td>NaN</td>\n",
       "      <td>NaN</td>\n",
       "      <td>NaN</td>\n",
       "      <td>NaN</td>\n",
       "      <td>NaN</td>\n",
       "      <td>NaN</td>\n",
       "      <td>NaN</td>\n",
       "      <td>NaN</td>\n",
       "      <td>NaN</td>\n",
       "      <td>NaN</td>\n",
       "      <td>NaN</td>\n",
       "      <td>NaN</td>\n",
       "      <td>NaN</td>\n",
       "    </tr>\n",
       "    <tr>\n",
       "      <th>1</th>\n",
       "      <td>&amp;nbsp;1&amp;nbsp;</td>\n",
       "      <td>&amp;nbsp;Steve Woolley&amp;nbsp;</td>\n",
       "      <td>&amp;nbsp;2303&amp;nbsp;</td>\n",
       "      <td>&amp;nbsp;00:34:37.0&amp;nbsp;</td>\n",
       "      <td>&amp;nbsp;00:34:33&amp;nbsp;</td>\n",
       "      <td>&amp;nbsp;Senior&amp;nbsp;</td>\n",
       "      <td>&amp;nbsp;1&amp;nbsp;</td>\n",
       "      <td>&amp;nbsp;Male&amp;nbsp;</td>\n",
       "      <td>&amp;nbsp;1&amp;nbsp;</td>\n",
       "      <td>&amp;nbsp;West 4 Harriers&amp;nbsp;</td>\n",
       "      <td>&amp;nbsp;00:11:17&amp;nbsp;</td>\n",
       "      <td>&amp;nbsp;00:11:42&amp;nbsp;</td>\n",
       "      <td>&amp;nbsp;00:11:36&amp;nbsp;</td>\n",
       "    </tr>\n",
       "    <tr>\n",
       "      <th>2</th>\n",
       "      <td>&amp;nbsp;2&amp;nbsp;</td>\n",
       "      <td>&amp;nbsp;Ben Alexander&amp;nbsp;</td>\n",
       "      <td>&amp;nbsp;1300&amp;nbsp;</td>\n",
       "      <td>&amp;nbsp;00:34:45.0&amp;nbsp;</td>\n",
       "      <td>&amp;nbsp;00:34:41&amp;nbsp;</td>\n",
       "      <td>&amp;nbsp;Senior&amp;nbsp;</td>\n",
       "      <td>&amp;nbsp;2&amp;nbsp;</td>\n",
       "      <td>&amp;nbsp;Male&amp;nbsp;</td>\n",
       "      <td>&amp;nbsp;2&amp;nbsp;</td>\n",
       "      <td>&amp;nbsp;&amp;nbsp;</td>\n",
       "      <td>&amp;nbsp;00:11:17&amp;nbsp;</td>\n",
       "      <td>&amp;nbsp;00:11:43&amp;nbsp;</td>\n",
       "      <td>&amp;nbsp;00:11:43&amp;nbsp;</td>\n",
       "    </tr>\n",
       "    <tr>\n",
       "      <th>3</th>\n",
       "      <td>&amp;nbsp;3&amp;nbsp;</td>\n",
       "      <td>&amp;nbsp;Ben Crabb&amp;nbsp;</td>\n",
       "      <td>&amp;nbsp;863&amp;nbsp;</td>\n",
       "      <td>&amp;nbsp;00:34:47.0&amp;nbsp;</td>\n",
       "      <td>&amp;nbsp;00:34:43&amp;nbsp;</td>\n",
       "      <td>&amp;nbsp;V40&amp;nbsp;</td>\n",
       "      <td>&amp;nbsp;1&amp;nbsp;</td>\n",
       "      <td>&amp;nbsp;Male&amp;nbsp;</td>\n",
       "      <td>&amp;nbsp;3&amp;nbsp;</td>\n",
       "      <td>&amp;nbsp;&amp;nbsp;</td>\n",
       "      <td>&amp;nbsp;00:11:21&amp;nbsp;</td>\n",
       "      <td>&amp;nbsp;00:11:38&amp;nbsp;</td>\n",
       "      <td>&amp;nbsp;00:11:46&amp;nbsp;</td>\n",
       "    </tr>\n",
       "    <tr>\n",
       "      <th>4</th>\n",
       "      <td>&amp;nbsp;4&amp;nbsp;</td>\n",
       "      <td>&amp;nbsp;Scott Mitchell&amp;nbsp;</td>\n",
       "      <td>&amp;nbsp;2046&amp;nbsp;</td>\n",
       "      <td>&amp;nbsp;00:35:16.0&amp;nbsp;</td>\n",
       "      <td>&amp;nbsp;00:35:15&amp;nbsp;</td>\n",
       "      <td>&amp;nbsp;Senior&amp;nbsp;</td>\n",
       "      <td>&amp;nbsp;3&amp;nbsp;</td>\n",
       "      <td>&amp;nbsp;Male&amp;nbsp;</td>\n",
       "      <td>&amp;nbsp;4&amp;nbsp;</td>\n",
       "      <td>&amp;nbsp;&amp;nbsp;</td>\n",
       "      <td>&amp;nbsp;00:11:18&amp;nbsp;</td>\n",
       "      <td>&amp;nbsp;00:11:54&amp;nbsp;</td>\n",
       "      <td>&amp;nbsp;00:12:02&amp;nbsp;</td>\n",
       "    </tr>\n",
       "  </tbody>\n",
       "</table>\n",
       "</div>"
      ],
      "text/plain": [
       "           Place                        Name            Bib No  \\\n",
       "0            NaN                         NaN               NaN   \n",
       "1  &nbsp;1&nbsp;   &nbsp;Steve Woolley&nbsp;  &nbsp;2303&nbsp;   \n",
       "2  &nbsp;2&nbsp;   &nbsp;Ben Alexander&nbsp;  &nbsp;1300&nbsp;   \n",
       "3  &nbsp;3&nbsp;       &nbsp;Ben Crabb&nbsp;   &nbsp;863&nbsp;   \n",
       "4  &nbsp;4&nbsp;  &nbsp;Scott Mitchell&nbsp;  &nbsp;2046&nbsp;   \n",
       "\n",
       "                 Gun Time              Net Time            Category  \\\n",
       "0                     NaN                   NaN                 NaN   \n",
       "1  &nbsp;00:34:37.0&nbsp;  &nbsp;00:34:33&nbsp;  &nbsp;Senior&nbsp;   \n",
       "2  &nbsp;00:34:45.0&nbsp;  &nbsp;00:34:41&nbsp;  &nbsp;Senior&nbsp;   \n",
       "3  &nbsp;00:34:47.0&nbsp;  &nbsp;00:34:43&nbsp;     &nbsp;V40&nbsp;   \n",
       "4  &nbsp;00:35:16.0&nbsp;  &nbsp;00:35:15&nbsp;  &nbsp;Senior&nbsp;   \n",
       "\n",
       "       Categ Pos            Gender     Gender Pos  \\\n",
       "0            NaN               NaN            NaN   \n",
       "1  &nbsp;1&nbsp;  &nbsp;Male&nbsp;  &nbsp;1&nbsp;   \n",
       "2  &nbsp;2&nbsp;  &nbsp;Male&nbsp;  &nbsp;2&nbsp;   \n",
       "3  &nbsp;1&nbsp;  &nbsp;Male&nbsp;  &nbsp;3&nbsp;   \n",
       "4  &nbsp;3&nbsp;  &nbsp;Male&nbsp;  &nbsp;4&nbsp;   \n",
       "\n",
       "                          Club            Lap 1 Time            Lap 2 Time  \\\n",
       "0                          NaN                   NaN                   NaN   \n",
       "1  &nbsp;West 4 Harriers&nbsp;  &nbsp;00:11:17&nbsp;  &nbsp;00:11:42&nbsp;   \n",
       "2                 &nbsp;&nbsp;  &nbsp;00:11:17&nbsp;  &nbsp;00:11:43&nbsp;   \n",
       "3                 &nbsp;&nbsp;  &nbsp;00:11:21&nbsp;  &nbsp;00:11:38&nbsp;   \n",
       "4                 &nbsp;&nbsp;  &nbsp;00:11:18&nbsp;  &nbsp;00:11:54&nbsp;   \n",
       "\n",
       "             Lap 3 Time  \n",
       "0                   NaN  \n",
       "1  &nbsp;00:11:36&nbsp;  \n",
       "2  &nbsp;00:11:43&nbsp;  \n",
       "3  &nbsp;00:11:46&nbsp;  \n",
       "4  &nbsp;00:12:02&nbsp;  "
      ]
     },
     "execution_count": 64,
     "metadata": {},
     "output_type": "execute_result"
    }
   ],
   "source": [
    "titles = 3\n",
    "header = 3\n",
    "\n",
    "for i,row in enumerate(table.findAll(\"tr\")): \n",
    "    columns = row.findAll(\"td\")\n",
    "    if(i < titles):\n",
    "        for c in columns:\n",
    "            print(c.getText())\n",
    "    elif(i == header):\n",
    "        clmn = []\n",
    "        for c in columns:\n",
    "            clmn.append(c.getText())\n",
    "        df = pd.DataFrame(columns = clmn,\n",
    "                          index =range(0,1000))\n",
    "    else:\n",
    "        for j,c in enumerate(columns):\n",
    "            df.iat[i-header,j] = c.text\n",
    "            \n",
    "df.head()"
   ]
  },
  {
   "cell_type": "code",
   "execution_count": null,
   "metadata": {
    "collapsed": false,
    "deletable": true,
    "editable": true
   },
   "outputs": [],
   "source": []
  },
  {
   "cell_type": "code",
   "execution_count": 25,
   "metadata": {
    "collapsed": false,
    "deletable": true,
    "editable": true
   },
   "outputs": [],
   "source": []
  },
  {
   "cell_type": "code",
   "execution_count": 26,
   "metadata": {
    "collapsed": true,
    "deletable": true,
    "editable": true
   },
   "outputs": [],
   "source": []
  },
  {
   "cell_type": "code",
   "execution_count": null,
   "metadata": {
    "collapsed": false,
    "deletable": true,
    "editable": true
   },
   "outputs": [],
   "source": []
  },
  {
   "cell_type": "code",
   "execution_count": null,
   "metadata": {
    "collapsed": true,
    "deletable": true,
    "editable": true
   },
   "outputs": [],
   "source": []
  }
 ],
 "metadata": {
  "kernelspec": {
   "display_name": "Python 2",
   "language": "python",
   "name": "python2"
  },
  "language_info": {
   "codemirror_mode": {
    "name": "ipython",
    "version": 2
   },
   "file_extension": ".py",
   "mimetype": "text/x-python",
   "name": "python",
   "nbconvert_exporter": "python",
   "pygments_lexer": "ipython2",
   "version": "2.7.12"
  }
 },
 "nbformat": 4,
 "nbformat_minor": 2
}
