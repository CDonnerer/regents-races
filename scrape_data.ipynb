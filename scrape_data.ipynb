{
 "cells": [
  {
   "cell_type": "code",
   "execution_count": 106,
   "metadata": {
    "collapsed": true,
    "deletable": true,
    "editable": true
   },
   "outputs": [],
   "source": [
    "from BeautifulSoup import BeautifulSoup\n",
    "import urllib2\n",
    "from matplotlib import pyplot as plt\n",
    "%matplotlib inline\n",
    "import pandas as pd"
   ]
  },
  {
   "cell_type": "code",
   "execution_count": 2,
   "metadata": {
    "collapsed": true,
    "deletable": true,
    "editable": true
   },
   "outputs": [],
   "source": [
    "pageFile = urllib2.urlopen(\"http://www.regentsparkraces.org/results.php?RaceYear=2017&Race=3\")"
   ]
  },
  {
   "cell_type": "code",
   "execution_count": 3,
   "metadata": {
    "collapsed": true,
    "deletable": true,
    "editable": true
   },
   "outputs": [],
   "source": [
    "pageHtml = pageFile.read()"
   ]
  },
  {
   "cell_type": "code",
   "execution_count": 49,
   "metadata": {
    "collapsed": false,
    "deletable": true,
    "editable": true
   },
   "outputs": [],
   "source": [
    "pageFile.close()"
   ]
  },
  {
   "cell_type": "code",
   "execution_count": 59,
   "metadata": {
    "collapsed": false
   },
   "outputs": [],
   "source": [
    "soup = BeautifulSoup(\"\".join(pageHtml))"
   ]
  },
  {
   "cell_type": "code",
   "execution_count": 63,
   "metadata": {
    "collapsed": false,
    "deletable": true,
    "editable": true
   },
   "outputs": [],
   "source": [
    "table = soup.find(\"table\", { \"class\" : \"ResultsTable\" })"
   ]
  },
  {
   "cell_type": "code",
   "execution_count": 139,
   "metadata": {
    "collapsed": false,
    "deletable": true,
    "editable": true
   },
   "outputs": [
    {
     "name": "stdout",
     "output_type": "stream",
     "text": [
      "Regent's Park Races\n",
      "Regents Park Summer 10K Series Sunday July 2nd 2017\n",
      "Overall Finish List\n"
     ]
    },
    {
     "data": {
      "text/html": [
       "<div>\n",
       "<style>\n",
       "    .dataframe thead tr:only-child th {\n",
       "        text-align: right;\n",
       "    }\n",
       "\n",
       "    .dataframe thead th {\n",
       "        text-align: left;\n",
       "    }\n",
       "\n",
       "    .dataframe tbody tr th {\n",
       "        vertical-align: top;\n",
       "    }\n",
       "</style>\n",
       "<table border=\"1\" class=\"dataframe\">\n",
       "  <thead>\n",
       "    <tr style=\"text-align: right;\">\n",
       "      <th></th>\n",
       "      <th>Place</th>\n",
       "      <th>Name</th>\n",
       "      <th>Bib No</th>\n",
       "      <th>Gun Time</th>\n",
       "      <th>Net Time</th>\n",
       "      <th>Category</th>\n",
       "      <th>Categ Pos</th>\n",
       "      <th>Gender</th>\n",
       "      <th>Gender Pos</th>\n",
       "      <th>Club</th>\n",
       "      <th>Lap 1 Time</th>\n",
       "      <th>Lap 2 Time</th>\n",
       "      <th>Lap 3 Time</th>\n",
       "    </tr>\n",
       "  </thead>\n",
       "  <tbody>\n",
       "    <tr>\n",
       "      <th>0</th>\n",
       "      <td>NaN</td>\n",
       "      <td>NaN</td>\n",
       "      <td>NaN</td>\n",
       "      <td>NaN</td>\n",
       "      <td>NaN</td>\n",
       "      <td>NaN</td>\n",
       "      <td>NaN</td>\n",
       "      <td>NaN</td>\n",
       "      <td>NaN</td>\n",
       "      <td>NaN</td>\n",
       "      <td>NaN</td>\n",
       "      <td>NaN</td>\n",
       "      <td>NaN</td>\n",
       "    </tr>\n",
       "    <tr>\n",
       "      <th>1</th>\n",
       "      <td>1</td>\n",
       "      <td>Steve Woolley</td>\n",
       "      <td>2303</td>\n",
       "      <td>00:34:37.0</td>\n",
       "      <td>00:34:33</td>\n",
       "      <td>Senior</td>\n",
       "      <td>1</td>\n",
       "      <td>Male</td>\n",
       "      <td>1</td>\n",
       "      <td>West 4 Harriers</td>\n",
       "      <td>00:11:17</td>\n",
       "      <td>00:11:42</td>\n",
       "      <td>00:11:36</td>\n",
       "    </tr>\n",
       "    <tr>\n",
       "      <th>2</th>\n",
       "      <td>2</td>\n",
       "      <td>Ben Alexander</td>\n",
       "      <td>1300</td>\n",
       "      <td>00:34:45.0</td>\n",
       "      <td>00:34:41</td>\n",
       "      <td>Senior</td>\n",
       "      <td>2</td>\n",
       "      <td>Male</td>\n",
       "      <td>2</td>\n",
       "      <td></td>\n",
       "      <td>00:11:17</td>\n",
       "      <td>00:11:43</td>\n",
       "      <td>00:11:43</td>\n",
       "    </tr>\n",
       "    <tr>\n",
       "      <th>3</th>\n",
       "      <td>3</td>\n",
       "      <td>Ben Crabb</td>\n",
       "      <td>863</td>\n",
       "      <td>00:34:47.0</td>\n",
       "      <td>00:34:43</td>\n",
       "      <td>V40</td>\n",
       "      <td>1</td>\n",
       "      <td>Male</td>\n",
       "      <td>3</td>\n",
       "      <td></td>\n",
       "      <td>00:11:21</td>\n",
       "      <td>00:11:38</td>\n",
       "      <td>00:11:46</td>\n",
       "    </tr>\n",
       "    <tr>\n",
       "      <th>4</th>\n",
       "      <td>4</td>\n",
       "      <td>Scott Mitchell</td>\n",
       "      <td>2046</td>\n",
       "      <td>00:35:16.0</td>\n",
       "      <td>00:35:15</td>\n",
       "      <td>Senior</td>\n",
       "      <td>3</td>\n",
       "      <td>Male</td>\n",
       "      <td>4</td>\n",
       "      <td></td>\n",
       "      <td>00:11:18</td>\n",
       "      <td>00:11:54</td>\n",
       "      <td>00:12:02</td>\n",
       "    </tr>\n",
       "  </tbody>\n",
       "</table>\n",
       "</div>"
      ],
      "text/plain": [
       "  Place            Name Bib No    Gun Time  Net Time Category Categ Pos  \\\n",
       "0   NaN             NaN    NaN         NaN       NaN      NaN       NaN   \n",
       "1     1   Steve Woolley   2303  00:34:37.0  00:34:33   Senior         1   \n",
       "2     2   Ben Alexander   1300  00:34:45.0  00:34:41   Senior         2   \n",
       "3     3       Ben Crabb    863  00:34:47.0  00:34:43      V40         1   \n",
       "4     4  Scott Mitchell   2046  00:35:16.0  00:35:15   Senior         3   \n",
       "\n",
       "  Gender Gender Pos             Club Lap 1 Time Lap 2 Time Lap 3 Time  \n",
       "0    NaN        NaN              NaN        NaN        NaN        NaN  \n",
       "1   Male          1  West 4 Harriers   00:11:17   00:11:42   00:11:36  \n",
       "2   Male          2                    00:11:17   00:11:43   00:11:43  \n",
       "3   Male          3                    00:11:21   00:11:38   00:11:46  \n",
       "4   Male          4                    00:11:18   00:11:54   00:12:02  "
      ]
     },
     "execution_count": 139,
     "metadata": {},
     "output_type": "execute_result"
    }
   ],
   "source": [
    "titles = 3\n",
    "header = 3\n",
    "\n",
    "for i,row in enumerate(table.findAll(\"tr\")): \n",
    "    columns = row.findAll(\"td\")\n",
    "    if(i < titles):\n",
    "        for c in columns:\n",
    "            print(c.getText())\n",
    "    elif(i == header):\n",
    "        clmn = []\n",
    "        for c in columns:\n",
    "            clmn.append(c.getText())\n",
    "        df = pd.DataFrame(columns = clmn,\n",
    "                          index =range(0,1000))\n",
    "    else:\n",
    "        for j,c in enumerate(columns):\n",
    "            df.iat[i-header,j] = c.text.replace('&nbsp;', '')\n",
    "\n",
    "df.head(5)"
   ]
  },
  {
   "cell_type": "code",
   "execution_count": 140,
   "metadata": {
    "collapsed": false,
    "deletable": true,
    "editable": true
   },
   "outputs": [],
   "source": [
    "df = df[df['Place'] != '0']\n",
    "df = df.dropna(axis=0, how='all')"
   ]
  },
  {
   "cell_type": "code",
   "execution_count": 141,
   "metadata": {
    "collapsed": false,
    "deletable": true,
    "editable": true
   },
   "outputs": [],
   "source": [
    " # Convert to int if possible\n",
    "for col in df:\n",
    "    try:\n",
    "        df[col] = df[col].astype(int)\n",
    "    except ValueError:\n",
    "        pass"
   ]
  },
  {
   "cell_type": "code",
   "execution_count": 145,
   "metadata": {
    "collapsed": false,
    "deletable": true,
    "editable": true
   },
   "outputs": [],
   "source": [
    "# convert to date time\n",
    "cols = ['Gun Time']\n",
    "\n",
    "for c in cols:\n",
    "    df[c] = pd.to_datetime(df[c])"
   ]
  },
  {
   "cell_type": "code",
   "execution_count": 148,
   "metadata": {
    "collapsed": false
   },
   "outputs": [
    {
     "data": {
      "text/html": [
       "<div>\n",
       "<style>\n",
       "    .dataframe thead tr:only-child th {\n",
       "        text-align: right;\n",
       "    }\n",
       "\n",
       "    .dataframe thead th {\n",
       "        text-align: left;\n",
       "    }\n",
       "\n",
       "    .dataframe tbody tr th {\n",
       "        vertical-align: top;\n",
       "    }\n",
       "</style>\n",
       "<table border=\"1\" class=\"dataframe\">\n",
       "  <thead>\n",
       "    <tr style=\"text-align: right;\">\n",
       "      <th></th>\n",
       "      <th>Place</th>\n",
       "      <th>Name</th>\n",
       "      <th>Bib No</th>\n",
       "      <th>Gun Time</th>\n",
       "      <th>Net Time</th>\n",
       "      <th>Category</th>\n",
       "      <th>Categ Pos</th>\n",
       "      <th>Gender</th>\n",
       "      <th>Gender Pos</th>\n",
       "      <th>Club</th>\n",
       "      <th>Lap 1 Time</th>\n",
       "      <th>Lap 2 Time</th>\n",
       "      <th>Lap 3 Time</th>\n",
       "    </tr>\n",
       "  </thead>\n",
       "  <tbody>\n",
       "    <tr>\n",
       "      <th>1</th>\n",
       "      <td>1</td>\n",
       "      <td>Steve Woolley</td>\n",
       "      <td>2303</td>\n",
       "      <td>2017-11-10 00:34:37</td>\n",
       "      <td>00:34:33</td>\n",
       "      <td>Senior</td>\n",
       "      <td>1</td>\n",
       "      <td>Male</td>\n",
       "      <td>1</td>\n",
       "      <td>West 4 Harriers</td>\n",
       "      <td>00:11:17</td>\n",
       "      <td>00:11:42</td>\n",
       "      <td>00:11:36</td>\n",
       "    </tr>\n",
       "    <tr>\n",
       "      <th>2</th>\n",
       "      <td>2</td>\n",
       "      <td>Ben Alexander</td>\n",
       "      <td>1300</td>\n",
       "      <td>2017-11-10 00:34:45</td>\n",
       "      <td>00:34:41</td>\n",
       "      <td>Senior</td>\n",
       "      <td>2</td>\n",
       "      <td>Male</td>\n",
       "      <td>2</td>\n",
       "      <td></td>\n",
       "      <td>00:11:17</td>\n",
       "      <td>00:11:43</td>\n",
       "      <td>00:11:43</td>\n",
       "    </tr>\n",
       "    <tr>\n",
       "      <th>3</th>\n",
       "      <td>3</td>\n",
       "      <td>Ben Crabb</td>\n",
       "      <td>863</td>\n",
       "      <td>2017-11-10 00:34:47</td>\n",
       "      <td>00:34:43</td>\n",
       "      <td>V40</td>\n",
       "      <td>1</td>\n",
       "      <td>Male</td>\n",
       "      <td>3</td>\n",
       "      <td></td>\n",
       "      <td>00:11:21</td>\n",
       "      <td>00:11:38</td>\n",
       "      <td>00:11:46</td>\n",
       "    </tr>\n",
       "  </tbody>\n",
       "</table>\n",
       "</div>"
      ],
      "text/plain": [
       "   Place           Name  Bib No            Gun Time  Net Time Category  \\\n",
       "1      1  Steve Woolley    2303 2017-11-10 00:34:37  00:34:33   Senior   \n",
       "2      2  Ben Alexander    1300 2017-11-10 00:34:45  00:34:41   Senior   \n",
       "3      3      Ben Crabb     863 2017-11-10 00:34:47  00:34:43      V40   \n",
       "\n",
       "   Categ Pos Gender  Gender Pos             Club Lap 1 Time Lap 2 Time  \\\n",
       "1          1   Male           1  West 4 Harriers   00:11:17   00:11:42   \n",
       "2          2   Male           2                    00:11:17   00:11:43   \n",
       "3          1   Male           3                    00:11:21   00:11:38   \n",
       "\n",
       "  Lap 3 Time  \n",
       "1   00:11:36  \n",
       "2   00:11:43  \n",
       "3   00:11:46  "
      ]
     },
     "execution_count": 148,
     "metadata": {},
     "output_type": "execute_result"
    }
   ],
   "source": [
    "df.head(3)"
   ]
  },
  {
   "cell_type": "code",
   "execution_count": 231,
   "metadata": {
    "collapsed": false,
    "deletable": true,
    "editable": true
   },
   "outputs": [
    {
     "data": {
      "text/plain": [
       "<matplotlib.axes._subplots.AxesSubplot at 0x10c34db50>"
      ]
     },
     "execution_count": 231,
     "metadata": {},
     "output_type": "execute_result"
    },
    {
     "data": {
      "image/png": "[encoded data removed]",
      "text/plain": [
       "<matplotlib.figure.Figure at 0x10bd1aa10>"
      ]
     },
     "metadata": {},
     "output_type": "display_data"
    }
   ],
   "source": [
    "# Plot histogram of time\n",
    "plt.figure(figsize=(16,6))\n",
    "plt.grid(False)\n",
    "df['Gun Time'].dt.time.hist(bins=15,grid =False)"
   ]
  },
  {
   "cell_type": "code",
   "execution_count": 232,
   "metadata": {
    "collapsed": false,
    "deletable": true,
    "editable": true
   },
   "outputs": [
    {
     "data": {
      "text/plain": [
       "<matplotlib.collections.PathCollection at 0x10c819a10>"
      ]
     },
     "execution_count": 232,
     "metadata": {},
     "output_type": "execute_result"
    },
    {
     "data": {
      "image/png": "[encoded data removed]",
      "text/plain": [
       "<matplotlib.figure.Figure at 0x10bfae850>"
      ]
     },
     "metadata": {},
     "output_type": "display_data"
    }
   ],
   "source": [
    "# Place vs time\n",
    "plt.figure(figsize=(16,6))\n",
    "plt.scatter(df['Place'], (1e-9*df['Gun Time'].astype(int)))"
   ]
  },
  {
   "cell_type": "code",
   "execution_count": null,
   "metadata": {
    "collapsed": false
   },
   "outputs": [],
   "source": []
  },
  {
   "cell_type": "code",
   "execution_count": null,
   "metadata": {
    "collapsed": true
   },
   "outputs": [],
   "source": []
  },
  {
   "cell_type": "code",
   "execution_count": null,
   "metadata": {
    "collapsed": true
   },
   "outputs": [],
   "source": []
  }
 ],
 "metadata": {
  "kernelspec": {
   "display_name": "Python 2",
   "language": "python",
   "name": "python2"
  },
  "language_info": {
   "codemirror_mode": {
    "name": "ipython",
    "version": 2
   },
   "file_extension": ".py",
   "mimetype": "text/x-python",
   "name": "python",
   "nbconvert_exporter": "python",
   "pygments_lexer": "ipython2",
   "version": "2.7.12"
  }
 },
 "nbformat": 4,
 "nbformat_minor": 2
}
