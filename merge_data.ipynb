{
 "cells": [
  {
   "cell_type": "markdown",
   "metadata": {
    "deletable": true,
    "editable": true
   },
   "source": [
    "# Merge data"
   ]
  },
  {
   "cell_type": "code",
   "execution_count": 1,
   "metadata": {
    "collapsed": true,
    "deletable": true,
    "editable": true
   },
   "outputs": [],
   "source": [
    "import pandas as pd\n",
    "import numpy as np"
   ]
  },
  {
   "cell_type": "code",
   "execution_count": 2,
   "metadata": {
    "collapsed": false,
    "deletable": true,
    "editable": true
   },
   "outputs": [],
   "source": [
    "year = [2011,2012,2013,2014,2015,2016,2017]\n",
    "frames = []\n",
    "\n",
    "for y in year:\n",
    "    for r in range(0,6):\n",
    "        df = pd.read_csv('data/y'+str(y)+'_r'+str(r))\n",
    "        df['Year'] = y\n",
    "        df['Race'] = r\n",
    "        \n",
    "        frames.append(df)"
   ]
  },
  {
   "cell_type": "code",
   "execution_count": 3,
   "metadata": {
    "collapsed": false,
    "deletable": true,
    "editable": true
   },
   "outputs": [
    {
     "name": "stdout",
     "output_type": "stream",
     "text": [
      "(23623, 15)\n"
     ]
    }
   ],
   "source": [
    "df = pd.concat(frames,ignore_index=True)\n",
    "print(df.shape)"
   ]
  },
  {
   "cell_type": "code",
   "execution_count": 4,
   "metadata": {
    "collapsed": false,
    "deletable": true,
    "editable": true
   },
   "outputs": [
    {
     "data": {
      "text/html": [
       "<div>\n",
       "<style>\n",
       "    .dataframe thead tr:only-child th {\n",
       "        text-align: right;\n",
       "    }\n",
       "\n",
       "    .dataframe thead th {\n",
       "        text-align: left;\n",
       "    }\n",
       "\n",
       "    .dataframe tbody tr th {\n",
       "        vertical-align: top;\n",
       "    }\n",
       "</style>\n",
       "<table border=\"1\" class=\"dataframe\">\n",
       "  <thead>\n",
       "    <tr style=\"text-align: right;\">\n",
       "      <th></th>\n",
       "      <th>Year</th>\n",
       "      <th>Race</th>\n",
       "      <th>Place</th>\n",
       "      <th>Name</th>\n",
       "      <th>Bib No</th>\n",
       "      <th>Gun Time</th>\n",
       "      <th>Net Time</th>\n",
       "      <th>Category</th>\n",
       "      <th>Categ Pos</th>\n",
       "      <th>Gender</th>\n",
       "      <th>Gender Pos</th>\n",
       "      <th>Club</th>\n",
       "      <th>Lap 1 Time</th>\n",
       "      <th>Lap 2 Time</th>\n",
       "      <th>Lap 3 Time</th>\n",
       "    </tr>\n",
       "  </thead>\n",
       "  <tbody>\n",
       "    <tr>\n",
       "      <th>23620</th>\n",
       "      <td>2017</td>\n",
       "      <td>5</td>\n",
       "      <td>524</td>\n",
       "      <td>Teju Chosen</td>\n",
       "      <td>2867</td>\n",
       "      <td>105.350000</td>\n",
       "      <td>103.866667</td>\n",
       "      <td>LV45</td>\n",
       "      <td>27</td>\n",
       "      <td>Female</td>\n",
       "      <td>220</td>\n",
       "      <td>NaN</td>\n",
       "      <td>36.250000</td>\n",
       "      <td>34.416667</td>\n",
       "      <td>34.633333</td>\n",
       "    </tr>\n",
       "    <tr>\n",
       "      <th>23621</th>\n",
       "      <td>2017</td>\n",
       "      <td>5</td>\n",
       "      <td>525</td>\n",
       "      <td>Gerard Hammond</td>\n",
       "      <td>1567</td>\n",
       "      <td>106.066667</td>\n",
       "      <td>85.316667</td>\n",
       "      <td>V50</td>\n",
       "      <td>39</td>\n",
       "      <td>Male</td>\n",
       "      <td>305</td>\n",
       "      <td>NaN</td>\n",
       "      <td>46.783333</td>\n",
       "      <td>NaN</td>\n",
       "      <td>NaN</td>\n",
       "    </tr>\n",
       "    <tr>\n",
       "      <th>23622</th>\n",
       "      <td>2017</td>\n",
       "      <td>5</td>\n",
       "      <td>526</td>\n",
       "      <td>Ashilk Vahra</td>\n",
       "      <td>1528</td>\n",
       "      <td>106.066667</td>\n",
       "      <td>83.216667</td>\n",
       "      <td>V40</td>\n",
       "      <td>70</td>\n",
       "      <td>Male</td>\n",
       "      <td>306</td>\n",
       "      <td>NaN</td>\n",
       "      <td>46.733333</td>\n",
       "      <td>29.200000</td>\n",
       "      <td>30.100000</td>\n",
       "    </tr>\n",
       "  </tbody>\n",
       "</table>\n",
       "</div>"
      ],
      "text/plain": [
       "       Year  Race  Place            Name  Bib No    Gun Time    Net Time  \\\n",
       "23620  2017     5    524     Teju Chosen    2867  105.350000  103.866667   \n",
       "23621  2017     5    525  Gerard Hammond    1567  106.066667   85.316667   \n",
       "23622  2017     5    526    Ashilk Vahra    1528  106.066667   83.216667   \n",
       "\n",
       "      Category  Categ Pos  Gender  Gender Pos Club  Lap 1 Time  Lap 2 Time  \\\n",
       "23620     LV45         27  Female         220  NaN   36.250000   34.416667   \n",
       "23621      V50         39    Male         305  NaN   46.783333         NaN   \n",
       "23622      V40         70    Male         306  NaN   46.733333   29.200000   \n",
       "\n",
       "       Lap 3 Time  \n",
       "23620   34.633333  \n",
       "23621         NaN  \n",
       "23622   30.100000  "
      ]
     },
     "execution_count": 4,
     "metadata": {},
     "output_type": "execute_result"
    }
   ],
   "source": [
    "# Rearrange columns\n",
    "cols = df.columns.tolist()\n",
    "cols = cols[-2:] + cols[:-2]\n",
    "\n",
    "df = df[cols]\n",
    "df.tail(3)"
   ]
  },
  {
   "cell_type": "code",
   "execution_count": 5,
   "metadata": {
    "collapsed": false,
    "deletable": true,
    "editable": true
   },
   "outputs": [],
   "source": [
    "# all looks good - save to csv\n",
    "df.to_csv('data/race_results', encoding='utf-8')"
   ]
  },
  {
   "cell_type": "code",
   "execution_count": null,
   "metadata": {
    "collapsed": true,
    "deletable": true,
    "editable": true
   },
   "outputs": [],
   "source": []
  }
 ],
 "metadata": {
  "kernelspec": {
   "display_name": "Python 2",
   "language": "python",
   "name": "python2"
  },
  "language_info": {
   "codemirror_mode": {
    "name": "ipython",
    "version": 2
   },
   "file_extension": ".py",
   "mimetype": "text/x-python",
   "name": "python",
   "nbconvert_exporter": "python",
   "pygments_lexer": "ipython2",
   "version": "2.7.12"
  }
 },
 "nbformat": 4,
 "nbformat_minor": 2
}
